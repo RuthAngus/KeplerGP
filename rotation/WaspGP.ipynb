{
 "metadata": {
  "name": "",
  "signature": "sha256:88148323b56ec5067018fed0c9e5376ffcb3bc4f2fe2a3d6f9d7b570abddcbc0"
 },
 "nbformat": 3,
 "nbformat_minor": 0,
 "worksheets": [
  {
   "cells": [
    {
     "cell_type": "markdown",
     "metadata": {},
     "source": [
      "#Measuring a rotation period from a Wasp target"
     ]
    },
    {
     "cell_type": "code",
     "collapsed": false,
     "input": [
      "import numpy as np\n",
      "import matplotlib.pyplot as plt\n",
      "import george\n",
      "from george.kernels import ExpSine2Kernel, ExpSquaredKernel, WhiteKernel\n",
      "from scipy.optimize import minimize, fmin"
     ],
     "language": "python",
     "metadata": {},
     "outputs": [],
     "prompt_number": 2
    },
    {
     "cell_type": "code",
     "collapsed": false,
     "input": [
      "t = 100  # Select the number of data points\n",
      "\n",
      "# Load and format the data\n",
      "data = np.genfromtxt('/Users/angusr/angusr/data/Wasp/1SWASPJ233549.28+002643.8_J233549_300_ORFG_TAMUZ.lc', skip_header=110).T[:,:t]\n",
      "x = data[0]\n",
      "y = data[1] - np.median(data[1])\n",
      "yerr = data[2]"
     ],
     "language": "python",
     "metadata": {},
     "outputs": [],
     "prompt_number": 3
    },
    {
     "cell_type": "markdown",
     "metadata": {},
     "source": [
      "The prediction function:"
     ]
    },
    {
     "cell_type": "code",
     "collapsed": false,
     "input": [
      "def predict(theta, xs, x, y, yerr, p):\n",
      "    k = theta[0] * ExpSquaredKernel(theta[1]) * ExpSine2Kernel(theta[2], p)\n",
      "    gp = george.GP(k)\n",
      "    gp.compute(x, np.sqrt(theta[3]+yerr**2))\n",
      "    return gp.predict(y, xs)"
     ],
     "language": "python",
     "metadata": {},
     "outputs": []
    },
    {
     "cell_type": "markdown",
     "metadata": {},
     "source": [
      "The negative log likelihood"
     ]
    },
    {
     "cell_type": "code",
     "collapsed": false,
     "input": [
      "def neglnlike(theta, x, y, yerr, p):\n",
      "    k = theta[0] * ExpSquaredKernel(theta[1]) * ExpSine2Kernel(theta[2], p)\n",
      "    gp = george.GP(k)\n",
      "    try:\n",
      "        gp.compute(x, np.sqrt(theta[3]+yerr**2))\n",
      "    except (ValueError, np.linalg.LinAlgError):\n",
      "        return 10e25\n",
      "    return -gp.lnlikelihood(y, quiet=True)"
     ],
     "language": "python",
     "metadata": {},
     "outputs": []
    },
    {
     "cell_type": "markdown",
     "metadata": {},
     "source": [
      "#Calculating the profile likelihood..."
     ]
    },
    {
     "cell_type": "markdown",
     "metadata": {},
     "source": [
      "Maximise the likelihood for the hyperparameters over a grid of periods"
     ]
    },
    {
     "cell_type": "code",
     "collapsed": false,
     "input": [
      "theta = [1.**2, .5 ** 2, 100., 0.05]  # Initial hyperparameters\n",
      "\n",
      "# The set of prediction points\n",
      "xs = np.linspace(min(x), max(x), 100)\n",
      "\n",
      "# Trial periods\n",
      "periods = np.linspace(3., 30, 20)\n",
      "L = np.empty_like(periods)\n",
      "for p in periods:\n",
      "\n",
      "    # Define the kernel function\n",
      "    k = theta[0] * ExpSquaredKernel(theta[1]) * ExpSine2Kernel(theta[2], p)\n",
      "    k += WhiteKernel(theta[3])  # white noise\n",
      "    gp = george.GP(k)\n",
      "\n",
      "    result = gp.optimize(x, y, yerr, dims=[0,1,2,3])\n",
      "    print 'Period = ', p, result"
     ],
     "language": "python",
     "metadata": {},
     "outputs": []
    },
    {
     "cell_type": "markdown",
     "metadata": {},
     "source": [
      "Plot the results..."
     ]
    },
    {
     "cell_type": "code",
     "collapsed": false,
     "input": [
      "plt.plot(periods, L)"
     ],
     "language": "python",
     "metadata": {},
     "outputs": []
    },
    {
     "cell_type": "code",
     "collapsed": false,
     "input": [
      "ml = max(L)\n",
      "mp = periods[L==ml]\n",
      "ys = predict(theta, xs, x, y, yerr, mp)\n",
      "\n",
      "plt.errorbar(x, y, yerr=yerr, fmt='k.', capsize=0)\n",
      "plt.plot(xs, ys[0], 'r')"
     ],
     "language": "python",
     "metadata": {},
     "outputs": []
    }
   ],
   "metadata": {}
  }
 ]
}