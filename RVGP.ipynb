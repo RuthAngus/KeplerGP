{
 "metadata": {
  "name": "",
  "signature": "sha256:051b336e7b9c64e9f5684abffa4ce3cab2a9e387f69b1cff8a32552c42028ed7"
 },
 "nbformat": 3,
 "nbformat_minor": 0,
 "worksheets": [
  {
   "cells": [
    {
     "cell_type": "markdown",
     "metadata": {},
     "source": [
      "#Modelling RV data with a GP"
     ]
    },
    {
     "cell_type": "code",
     "collapsed": false,
     "input": [
      "import numpy as np\n",
      "import matplotlib.pyplot as plt\n",
      "import george\n",
      "from george.kernels import ExpSquaredKernel\n",
      "import emcee\n",
      "import triangle\n",
      "%matplotlib inline"
     ],
     "language": "python",
     "metadata": {},
     "outputs": [],
     "prompt_number": 98
    },
    {
     "cell_type": "markdown",
     "metadata": {},
     "source": [
      "Load the data...\n"
     ]
    },
    {
     "cell_type": "code",
     "collapsed": false,
     "input": [
      "data = np.genfromtxt(\"/Users/angusr/Python/alphacen/data.txt\", skip_header=2).T\n",
      "t = data[0] - data[0][0]\n",
      "l = (400<t) * (t<440)\n",
      "t = t[l]\n",
      "rv = data[1][l]\n",
      "rv_err1 = data[2][l]\n",
      "rv_err2 = data[3][l]"
     ],
     "language": "python",
     "metadata": {},
     "outputs": [],
     "prompt_number": 62
    },
    {
     "cell_type": "markdown",
     "metadata": {},
     "source": [
      "Plot the data..."
     ]
    },
    {
     "cell_type": "code",
     "collapsed": false,
     "input": [
      "plt.errorbar(t, rv, yerr=rv_err1, capsize=0, ecolor='.8', fmt='k.')"
     ],
     "language": "python",
     "metadata": {},
     "outputs": [
      {
       "metadata": {},
       "output_type": "pyout",
       "prompt_number": 63,
       "text": [
        "<Container object of 3 artists>"
       ]
      },
      {
       "metadata": {},
       "output_type": "display_data",
       "png": "[encoded data removed]",
       "text": [
        "<matplotlib.figure.Figure at 0x10a5dc290>"
       ]
      }
     ],
     "prompt_number": 63
    },
    {
     "cell_type": "code",
     "collapsed": false,
     "input": [
      "# subtract linear trend\n",
      "ply = np.polyfit(t, rv, 1)\n",
      "p = np.polyval(ply, t)\n",
      "rv -= p"
     ],
     "language": "python",
     "metadata": {},
     "outputs": [],
     "prompt_number": 64
    },
    {
     "cell_type": "code",
     "collapsed": false,
     "input": [
      "plt.errorbar(t, rv, yerr=rv_err1, capsize=0, ecolor='.8', fmt='k.')"
     ],
     "language": "python",
     "metadata": {},
     "outputs": [
      {
       "metadata": {},
       "output_type": "pyout",
       "prompt_number": 65,
       "text": [
        "<Container object of 3 artists>"
       ]
      },
      {
       "metadata": {},
       "output_type": "display_data",
       "png": "[encoded data removed]",
       "text": [
        "<matplotlib.figure.Figure at 0x10104ea10>"
       ]
      }
     ],
     "prompt_number": 65
    },
    {
     "cell_type": "code",
     "collapsed": false,
     "input": [
      "# initial guess\n",
      "theta = [.1**2, 20 ** 2, 0.005]\n",
      "k = theta[0] * ExpSquaredKernel(theta[1])\n",
      "\n",
      "gp = george.GP(k)\n",
      "gp.compute(t, np.sqrt(theta[2]+rv_err1**2))\n",
      "\n",
      "xs = np.linspace(min(t), max(t), 1000)\n",
      "y = gp.predict(rv, xs)[0]"
     ],
     "language": "python",
     "metadata": {},
     "outputs": [],
     "prompt_number": 66
    },
    {
     "cell_type": "code",
     "collapsed": false,
     "input": [
      "plt.errorbar(t, rv, yerr=rv_err1, capsize=0, ecolor='.8', fmt='k.')\n",
      "plt.plot(xs, y)"
     ],
     "language": "python",
     "metadata": {},
     "outputs": [
      {
       "metadata": {},
       "output_type": "pyout",
       "prompt_number": 67,
       "text": [
        "[<matplotlib.lines.Line2D at 0x10a9bcbd0>]"
       ]
      },
      {
       "metadata": {},
       "output_type": "display_data",
       "png": "[encoded data removed]",
       "text": [
        "<matplotlib.figure.Figure at 0x10a9bc0d0>"
       ]
      }
     ],
     "prompt_number": 67
    },
    {
     "cell_type": "code",
     "collapsed": false,
     "input": [
      "result = gp.optimize(t, rv, rv_err1)"
     ],
     "language": "python",
     "metadata": {},
     "outputs": [
      {
       "output_type": "stream",
       "stream": "stdout",
       "text": [
        "Optimization terminated successfully.\n"
       ]
      }
     ],
     "prompt_number": 68
    },
    {
     "cell_type": "code",
     "collapsed": false,
     "input": [
      "print result[0]"
     ],
     "language": "python",
     "metadata": {},
     "outputs": [
      {
       "output_type": "stream",
       "stream": "stdout",
       "text": [
        "[-13.635507    -5.44679828]\n"
       ]
      }
     ],
     "prompt_number": 69
    },
    {
     "cell_type": "code",
     "collapsed": false,
     "input": [
      "# optimised\n",
      "theta = [result[0][0]**2, result[0][1]**2, 0.05]\n",
      "k = theta[0] * ExpSquaredKernel(theta[1])\n",
      "\n",
      "gp = george.GP(k)\n",
      "gp.compute(t, np.sqrt(theta[2]+rv_err1**2))\n",
      "\n",
      "xs = np.linspace(min(t), max(t), 1000)\n",
      "y = gp.predict(rv, xs)[0]"
     ],
     "language": "python",
     "metadata": {},
     "outputs": [],
     "prompt_number": 70
    },
    {
     "cell_type": "code",
     "collapsed": false,
     "input": [
      "plt.errorbar(t, rv, yerr=rv_err1, capsize=0, ecolor='.8', fmt='k.')\n",
      "plt.plot(xs, y)"
     ],
     "language": "python",
     "metadata": {},
     "outputs": [
      {
       "metadata": {},
       "output_type": "pyout",
       "prompt_number": 71,
       "text": [
        "[<matplotlib.lines.Line2D at 0x10c011290>]"
       ]
      },
      {
       "metadata": {},
       "output_type": "display_data",
       "png": "[encoded data removed]",
       "text": [
        "<matplotlib.figure.Figure at 0x10c0112d0>"
       ]
      }
     ],
     "prompt_number": 71
    },
    {
     "cell_type": "code",
     "collapsed": false,
     "input": [
      "print result[0]"
     ],
     "language": "python",
     "metadata": {},
     "outputs": [
      {
       "output_type": "stream",
       "stream": "stdout",
       "text": [
        "[-13.635507    -5.44679828]\n"
       ]
      }
     ],
     "prompt_number": 72
    },
    {
     "cell_type": "code",
     "collapsed": false,
     "input": [
      "def lnlike(theta, x, y, yerr):\n",
      "    k = theta[0] * ExpSquaredKernel(theta[1])\n",
      "    gp = george.GP(k)\n",
      "    try:\n",
      "        gp.compute(x, np.sqrt(theta[2]+yerr**2))\n",
      "    except (ValueError, np.linalg.LinAlgError):\n",
      "        return 10e25\n",
      "    return gp.lnlikelihood(y, quiet=True)"
     ],
     "language": "python",
     "metadata": {},
     "outputs": [],
     "prompt_number": 87
    },
    {
     "cell_type": "code",
     "collapsed": false,
     "input": [
      "def lnprior(theta):\n",
      "    theta = np.log(theta)\n",
      "    if -10 < theta[0] < 10 and -10 < theta[1] < 10 \n",
      "    return .0"
     ],
     "language": "python",
     "metadata": {},
     "outputs": [],
     "prompt_number": 88
    },
    {
     "cell_type": "code",
     "collapsed": false,
     "input": [
      "def lnprob(theta, x, y, yerr):\n",
      "    return lnprior(theta) + lnlike(theta, x, y, yerr)"
     ],
     "language": "python",
     "metadata": {},
     "outputs": [],
     "prompt_number": 89
    },
    {
     "cell_type": "code",
     "collapsed": false,
     "input": [
      "nwalkers, ndim = 32, len(theta)\n",
      "p0 = [theta+1e-4*np.random.rand(ndim) for i in range(nwalkers)]\n",
      "args = (t, rv, rv_err1)\n",
      "sampler = emcee.EnsembleSampler(nwalkers, ndim, lnprob, args = args)\n",
      "p0, lp, state = sampler.run_mcmc(p0, 2000)"
     ],
     "language": "python",
     "metadata": {},
     "outputs": [],
     "prompt_number": 94
    },
    {
     "cell_type": "code",
     "collapsed": false,
     "input": [
      "samples = sampler.chain[:, 50:, :].reshape((-1, ndim))\n",
      "print theta\n",
      "print samples\n",
      "raw_input('enter')\n",
      "\n",
      "fig = triangle.corner(samples, labels=[\"$A$\", \"$l$\", \"$wn$\"], truths=[theta])\n",
      "print samples\n",
      "\n",
      "mcmc_result = map(lambda v: (v[1], v[2]-v[1], v[1]-v[0]),\n",
      "                  zip(*np.percentile(samples, [16, 50, 84], axis=0)))\n",
      "mres = np.array(mcmc_result)[:, 0]\n",
      "print 'mcmc_result = ', mres"
     ],
     "language": "python",
     "metadata": {},
     "outputs": []
    },
    {
     "cell_type": "code",
     "collapsed": false,
     "input": [],
     "language": "python",
     "metadata": {},
     "outputs": []
    }
   ],
   "metadata": {}
  }
 ]
}