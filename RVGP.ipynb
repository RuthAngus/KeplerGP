{
 "metadata": {
  "name": "",
  "signature": "sha256:a8f2f72441a5924a95b75bf973b94803a4fa860337cac3424797f6067400e94d"
 },
 "nbformat": 3,
 "nbformat_minor": 0,
 "worksheets": [
  {
   "cells": [
    {
     "cell_type": "markdown",
     "metadata": {},
     "source": [
      "#Modelling RV data with a GP"
     ]
    },
    {
     "cell_type": "code",
     "collapsed": false,
     "input": [
      "import numpy as np\n",
      "import matplotlib.pyplot as plt\n",
      "import george\n",
      "from george.kernels import ExpSquaredKernel\n",
      "import emcee\n",
      "import triangle\n",
      "%matplotlib inline"
     ],
     "language": "python",
     "metadata": {},
     "outputs": [],
     "prompt_number": 1
    },
    {
     "cell_type": "markdown",
     "metadata": {},
     "source": [
      "Load the data...\n"
     ]
    },
    {
     "cell_type": "code",
     "collapsed": false,
     "input": [
      "data = np.genfromtxt(\"/Users/angusr/Python/alphacen/data.txt\", skip_header=2).T\n",
      "t = data[0] - data[0][0]\n",
      "l = (400<t) * (t<440)\n",
      "t = t[l]\n",
      "rv = data[1][l]\n",
      "rv_err1 = data[2][l]\n",
      "rv_err2 = data[3][l]\n",
      "print rv"
     ],
     "language": "python",
     "metadata": {},
     "outputs": [
      {
       "output_type": "stream",
       "stream": "stdout",
       "text": [
        "[-22.52161  -22.523507 -22.521404 -22.520036 -22.52079  -22.519003\n",
        " -22.522213 -22.523295 -22.522882 -22.523155 -22.522648 -22.524016\n",
        " -22.523056 -22.523274 -22.523403 -22.525458 -22.524787 -22.525873\n",
        " -22.525789 -22.52579  -22.526171 -22.524231 -22.524035 -22.523686\n",
        " -22.525603 -22.523473 -22.524679 -22.526005 -22.525895 -22.526784\n",
        " -22.528991 -22.527041 -22.526979 -22.528085 -22.528088 -22.527645\n",
        " -22.527911 -22.529144 -22.528786 -22.528796 -22.53032  -22.529629\n",
        " -22.531243 -22.532043 -22.530635 -22.530623 -22.532395 -22.531302\n",
        " -22.531947 -22.532014 -22.531558 -22.533198 -22.531748 -22.534434\n",
        " -22.533998 -22.532557 -22.531587 -22.53052  -22.529922 -22.530946]\n"
       ]
      }
     ],
     "prompt_number": 10
    },
    {
     "cell_type": "markdown",
     "metadata": {},
     "source": [
      "Plot the data..."
     ]
    },
    {
     "cell_type": "code",
     "collapsed": false,
     "input": [
      "plt.errorbar(t, rv, yerr=rv_err1, capsize=0, ecolor='.8', fmt='k.')"
     ],
     "language": "python",
     "metadata": {},
     "outputs": [
      {
       "metadata": {},
       "output_type": "pyout",
       "prompt_number": 3,
       "text": [
        "<Container object of 3 artists>"
       ]
      },
      {
       "metadata": {},
       "output_type": "display_data",
       "png": "[encoded data removed]",
       "text": [
        "<matplotlib.figure.Figure at 0x10278b6d0>"
       ]
      }
     ],
     "prompt_number": 3
    },
    {
     "cell_type": "code",
     "collapsed": false,
     "input": [
      "# subtract linear trend\n",
      "ply = np.polyfit(t, rv, 1)\n",
      "p = np.polyval(ply, t)\n",
      "rv -= p\n",
      "print rv"
     ],
     "language": "python",
     "metadata": {},
     "outputs": [
      {
       "output_type": "stream",
       "stream": "stdout",
       "text": [
        "[ -2.49586970e-05  -1.88505162e-03   2.59668697e-04   2.02256590e-03\n",
        "   1.30779452e-03   3.12465650e-03   2.97657458e-04  -7.49246096e-04\n",
        "  -3.00193938e-04  -1.93464232e-04   3.58969820e-04  -9.73444550e-04\n",
        "   3.77904906e-04   2.01296944e-04   1.05828739e-04  -1.56562564e-03\n",
        "  -8.54015926e-04  -1.90441458e-03  -1.42823425e-03  -1.40181217e-03\n",
        "  -1.74594856e-03   5.92973086e-04   8.17462767e-04   1.19883078e-03\n",
        "  -3.13948382e-04   1.84943176e-03   6.79871841e-04  -2.59265976e-04\n",
        "  -1.05451597e-04  -9.63302380e-04  -9.35326092e-04   1.05334723e-03\n",
        "   1.15889158e-03   4.10697224e-04   4.53406384e-04   9.25933616e-04\n",
        "   1.51068836e-03   3.18203286e-04   7.29876721e-04   1.08913427e-03\n",
        "  -3.90988929e-04   3.47332505e-04  -8.86746369e-04  -1.68184019e-03\n",
        "  -2.28558257e-04  -1.73319988e-04  -1.53292727e-03  -4.01832378e-04\n",
        "  -6.83100577e-04  -7.01770720e-04  -1.88983704e-04  -1.46864799e-03\n",
        "   3.31847611e-05  -2.60878863e-03  -1.81230126e-03  -3.07524642e-04\n",
        "   6.99202110e-04   2.15460629e-03   2.79129995e-03   1.80031759e-03]\n"
       ]
      }
     ],
     "prompt_number": 11
    },
    {
     "cell_type": "code",
     "collapsed": false,
     "input": [
      "plt.errorbar(t, rv, yerr=rv_err1, capsize=0, ecolor='.8', fmt='k.')"
     ],
     "language": "python",
     "metadata": {},
     "outputs": [
      {
       "metadata": {},
       "output_type": "pyout",
       "prompt_number": 12,
       "text": [
        "<Container object of 3 artists>"
       ]
      },
      {
       "metadata": {},
       "output_type": "display_data",
       "png": "[encoded data removed]",
       "text": [
        "<matplotlib.figure.Figure at 0x108fa7dd0>"
       ]
      }
     ],
     "prompt_number": 12
    },
    {
     "cell_type": "code",
     "collapsed": false,
     "input": [
      "# initial guess\n",
      "theta = [.01**2, 20 ** 2, 0.005]\n",
      "k = theta[0] * ExpSquaredKernel(theta[1])\n",
      "\n",
      "gp = george.GP(k)\n",
      "gp.compute(t, np.sqrt(theta[2]+rv_err1**2))\n",
      "\n",
      "xs = np.linspace(min(t), max(t), 1000)\n",
      "y = gp.predict(rv, xs)[0]"
     ],
     "language": "python",
     "metadata": {},
     "outputs": [],
     "prompt_number": 13
    },
    {
     "cell_type": "code",
     "collapsed": false,
     "input": [
      "plt.errorbar(t, rv, yerr=rv_err1, capsize=0, ecolor='.8', fmt='k.')\n",
      "plt.plot(xs, y)"
     ],
     "language": "python",
     "metadata": {},
     "outputs": [
      {
       "metadata": {},
       "output_type": "pyout",
       "prompt_number": 14,
       "text": [
        "[<matplotlib.lines.Line2D at 0x108fa7f10>]"
       ]
      },
      {
       "metadata": {},
       "output_type": "display_data",
       "png": "[encoded data removed]",
       "text": [
        "<matplotlib.figure.Figure at 0x108fa7490>"
       ]
      }
     ],
     "prompt_number": 14
    },
    {
     "cell_type": "code",
     "collapsed": false,
     "input": [
      "result = gp.optimize(t, rv, rv_err1)"
     ],
     "language": "python",
     "metadata": {},
     "outputs": [
      {
       "output_type": "stream",
       "stream": "stdout",
       "text": [
        "Optimization terminated successfully.\n"
       ]
      }
     ],
     "prompt_number": 16
    },
    {
     "cell_type": "code",
     "collapsed": false,
     "input": [
      "print result[0]"
     ],
     "language": "python",
     "metadata": {},
     "outputs": [
      {
       "output_type": "stream",
       "stream": "stdout",
       "text": [
        "[-13.63550713  -5.44679907]\n"
       ]
      }
     ],
     "prompt_number": 17
    },
    {
     "cell_type": "code",
     "collapsed": false,
     "input": [
      "# optimised\n",
      "theta = [result[0][0]**2, result[0][1]**2, 0.05]\n",
      "k = theta[0] * ExpSquaredKernel(theta[1])\n",
      "\n",
      "gp = george.GP(k)\n",
      "gp.compute(t, np.sqrt(theta[2]+rv_err1**2))\n",
      "\n",
      "xs = np.linspace(min(t), max(t), 1000)\n",
      "y = gp.predict(rv, xs)[0]"
     ],
     "language": "python",
     "metadata": {},
     "outputs": [],
     "prompt_number": 18
    },
    {
     "cell_type": "code",
     "collapsed": false,
     "input": [
      "plt.errorbar(t, rv, yerr=rv_err1, capsize=0, ecolor='.8', fmt='k.')\n",
      "plt.plot(xs, y)"
     ],
     "language": "python",
     "metadata": {},
     "outputs": [
      {
       "metadata": {},
       "output_type": "pyout",
       "prompt_number": 19,
       "text": [
        "[<matplotlib.lines.Line2D at 0x10aee3b90>]"
       ]
      },
      {
       "metadata": {},
       "output_type": "display_data",
       "png": "[encoded data removed]",
       "text": [
        "<matplotlib.figure.Figure at 0x10aee3f50>"
       ]
      }
     ],
     "prompt_number": 19
    },
    {
     "cell_type": "code",
     "collapsed": false,
     "input": [
      "print result[0]"
     ],
     "language": "python",
     "metadata": {},
     "outputs": []
    },
    {
     "cell_type": "code",
     "collapsed": false,
     "input": [
      "def lnlike(theta, x, y, yerr):\n",
      "    k = theta[0] * ExpSquaredKernel(theta[1])\n",
      "    gp = george.GP(k)\n",
      "    try:\n",
      "        gp.compute(x, np.sqrt(theta[2]+yerr**2))\n",
      "    except (ValueError, np.linalg.LinAlgError):\n",
      "        return 10e25\n",
      "    return gp.lnlikelihood(y, quiet=True)"
     ],
     "language": "python",
     "metadata": {},
     "outputs": [],
     "prompt_number": 20
    },
    {
     "cell_type": "code",
     "collapsed": false,
     "input": [
      "def lnprior(theta):\n",
      "    theta = np.log(theta)\n",
      "    if -10 < theta[0] < 10 and -10 < theta[1] < 10 and -10 < theta[2] < 10:\n",
      "        return .0\n",
      "    else: return -np.inf"
     ],
     "language": "python",
     "metadata": {},
     "outputs": [],
     "prompt_number": 21
    },
    {
     "cell_type": "code",
     "collapsed": false,
     "input": [
      "def lnprob(theta, x, y, yerr):\n",
      "    return lnprior(theta) + lnlike(theta, x, y, yerr)"
     ],
     "language": "python",
     "metadata": {},
     "outputs": [],
     "prompt_number": 22
    },
    {
     "cell_type": "code",
     "collapsed": false,
     "input": [
      "nwalkers, ndim = 32, len(theta)\n",
      "p0 = [theta+1e-4*np.random.rand(ndim) for i in range(nwalkers)]\n",
      "args = (t, rv, rv_err1)\n",
      "sampler = emcee.EnsembleSampler(nwalkers, ndim, lnprob, args = args)\n",
      "p0, lp, state = sampler.run_mcmc(p0, 2000)"
     ],
     "language": "python",
     "metadata": {},
     "outputs": [
      {
       "output_type": "stream",
       "stream": "stderr",
       "text": [
        "-c:2: RuntimeWarning: invalid value encountered in log\n",
        "-c:5: RuntimeWarning: invalid value encountered in sqrt\n"
       ]
      }
     ],
     "prompt_number": 23
    },
    {
     "cell_type": "code",
     "collapsed": false,
     "input": [
      "samples = sampler.chain[:, 50:, :].reshape((-1, ndim))\n",
      "print theta\n",
      "print samples\n",
      "raw_input('enter')\n",
      "\n",
      "fig = triangle.corner(samples, labels=[\"$A$\", \"$l$\", \"$wn$\"], truths=[theta])\n",
      "print samples\n",
      "\n",
      "mcmc_result = map(lambda v: (v[1], v[2]-v[1], v[1]-v[0]),\n",
      "                  zip(*np.percentile(samples, [16, 50, 84], axis=0)))\n",
      "mres = np.array(mcmc_result)[:, 0]\n",
      "print 'mcmc_result = ', mres"
     ],
     "language": "python",
     "metadata": {},
     "outputs": [
      {
       "output_type": "stream",
       "stream": "stdout",
       "text": [
        "[185.92705458740633, 29.667620147799173, 0.05]\n",
        "[[  1.85409219e+02   2.96071587e+01   8.77361804e-04]\n",
        " [  1.85409219e+02   2.96071587e+01   8.77361804e-04]\n",
        " [  1.85409219e+02   2.96071587e+01   8.77361804e-04]\n",
        " ..., \n",
        " [  1.92034058e-01   1.70860368e+04   4.73866216e-05]\n",
        " [  2.51388053e-01   1.95582973e+04   4.76707859e-05]\n",
        " [  2.51388053e-01   1.95582973e+04   4.76707859e-05]]\n"
       ]
      },
      {
       "name": "stdout",
       "output_type": "stream",
       "stream": "stdout",
       "text": [
        "enter\n"
       ]
      },
      {
       "ename": "ValueError",
       "evalue": "The truth value of an array with more than one element is ambiguous. Use a.any() or a.all()",
       "output_type": "pyerr",
       "traceback": [
        "\u001b[0;31m---------------------------------------------------------------------------\u001b[0m\n\u001b[0;31mValueError\u001b[0m                                Traceback (most recent call last)",
        "\u001b[0;32m<ipython-input-24-fcd7a8b7cdc6>\u001b[0m in \u001b[0;36m<module>\u001b[0;34m()\u001b[0m\n\u001b[1;32m      4\u001b[0m \u001b[0mraw_input\u001b[0m\u001b[0;34m(\u001b[0m\u001b[0;34m'enter'\u001b[0m\u001b[0;34m)\u001b[0m\u001b[0;34m\u001b[0m\u001b[0m\n\u001b[1;32m      5\u001b[0m \u001b[0;34m\u001b[0m\u001b[0m\n\u001b[0;32m----> 6\u001b[0;31m \u001b[0mfig\u001b[0m \u001b[0;34m=\u001b[0m \u001b[0mtriangle\u001b[0m\u001b[0;34m.\u001b[0m\u001b[0mcorner\u001b[0m\u001b[0;34m(\u001b[0m\u001b[0msamples\u001b[0m\u001b[0;34m,\u001b[0m \u001b[0mlabels\u001b[0m\u001b[0;34m=\u001b[0m\u001b[0;34m[\u001b[0m\u001b[0;34m\"$A$\"\u001b[0m\u001b[0;34m,\u001b[0m \u001b[0;34m\"$l$\"\u001b[0m\u001b[0;34m,\u001b[0m \u001b[0;34m\"$wn$\"\u001b[0m\u001b[0;34m]\u001b[0m\u001b[0;34m,\u001b[0m \u001b[0mtruths\u001b[0m\u001b[0;34m=\u001b[0m\u001b[0;34m[\u001b[0m\u001b[0mtheta\u001b[0m\u001b[0;34m]\u001b[0m\u001b[0;34m)\u001b[0m\u001b[0;34m\u001b[0m\u001b[0m\n\u001b[0m\u001b[1;32m      7\u001b[0m \u001b[0;32mprint\u001b[0m \u001b[0msamples\u001b[0m\u001b[0;34m\u001b[0m\u001b[0m\n\u001b[1;32m      8\u001b[0m \u001b[0;34m\u001b[0m\u001b[0m\n",
        "\u001b[0;32m/Users/angusr/anaconda/lib/python2.7/site-packages/triangle.pyc\u001b[0m in \u001b[0;36mcorner\u001b[0;34m(xs, weights, labels, extents, truths, truth_color, scale_hist, quantiles, verbose, plot_contours, plot_datapoints, fig, **kwargs)\u001b[0m\n\u001b[1;32m    155\u001b[0m                           color=kwargs.get(\"color\", \"k\"))\n\u001b[1;32m    156\u001b[0m         \u001b[0;32mif\u001b[0m \u001b[0mtruths\u001b[0m \u001b[0;32mis\u001b[0m \u001b[0;32mnot\u001b[0m \u001b[0mNone\u001b[0m\u001b[0;34m:\u001b[0m\u001b[0;34m\u001b[0m\u001b[0m\n\u001b[0;32m--> 157\u001b[0;31m             \u001b[0max\u001b[0m\u001b[0;34m.\u001b[0m\u001b[0maxvline\u001b[0m\u001b[0;34m(\u001b[0m\u001b[0mtruths\u001b[0m\u001b[0;34m[\u001b[0m\u001b[0mi\u001b[0m\u001b[0;34m]\u001b[0m\u001b[0;34m,\u001b[0m \u001b[0mcolor\u001b[0m\u001b[0;34m=\u001b[0m\u001b[0mtruth_color\u001b[0m\u001b[0;34m)\u001b[0m\u001b[0;34m\u001b[0m\u001b[0m\n\u001b[0m\u001b[1;32m    158\u001b[0m \u001b[0;34m\u001b[0m\u001b[0m\n\u001b[1;32m    159\u001b[0m         \u001b[0;31m# Plot quantiles if wanted.\u001b[0m\u001b[0;34m\u001b[0m\u001b[0;34m\u001b[0m\u001b[0m\n",
        "\u001b[0;32m/Users/angusr/anaconda/lib/python2.7/site-packages/matplotlib/axes.pyc\u001b[0m in \u001b[0;36maxvline\u001b[0;34m(self, x, ymin, ymax, **kwargs)\u001b[0m\n\u001b[1;32m   3532\u001b[0m         \u001b[0mself\u001b[0m\u001b[0;34m.\u001b[0m\u001b[0m_process_unit_info\u001b[0m\u001b[0;34m(\u001b[0m\u001b[0mxdata\u001b[0m\u001b[0;34m=\u001b[0m\u001b[0mx\u001b[0m\u001b[0;34m,\u001b[0m \u001b[0mkwargs\u001b[0m\u001b[0;34m=\u001b[0m\u001b[0mkwargs\u001b[0m\u001b[0;34m)\u001b[0m\u001b[0;34m\u001b[0m\u001b[0m\n\u001b[1;32m   3533\u001b[0m         \u001b[0mxx\u001b[0m \u001b[0;34m=\u001b[0m \u001b[0mself\u001b[0m\u001b[0;34m.\u001b[0m\u001b[0mconvert_xunits\u001b[0m\u001b[0;34m(\u001b[0m\u001b[0mx\u001b[0m\u001b[0;34m)\u001b[0m\u001b[0;34m\u001b[0m\u001b[0m\n\u001b[0;32m-> 3534\u001b[0;31m         \u001b[0mscalex\u001b[0m \u001b[0;34m=\u001b[0m \u001b[0;34m(\u001b[0m\u001b[0mxx\u001b[0m \u001b[0;34m<\u001b[0m \u001b[0mxmin\u001b[0m\u001b[0;34m)\u001b[0m \u001b[0;32mor\u001b[0m \u001b[0;34m(\u001b[0m\u001b[0mxx\u001b[0m \u001b[0;34m>\u001b[0m \u001b[0mxmax\u001b[0m\u001b[0;34m)\u001b[0m\u001b[0;34m\u001b[0m\u001b[0m\n\u001b[0m\u001b[1;32m   3535\u001b[0m \u001b[0;34m\u001b[0m\u001b[0m\n\u001b[1;32m   3536\u001b[0m         trans = mtransforms.blended_transform_factory(\n",
        "\u001b[0;31mValueError\u001b[0m: The truth value of an array with more than one element is ambiguous. Use a.any() or a.all()"
       ]
      },
      {
       "metadata": {},
       "output_type": "display_data",
       "png": "[encoded data removed]",
       "text": [
        "<matplotlib.figure.Figure at 0x10bfa4a50>"
       ]
      }
     ],
     "prompt_number": 24
    },
    {
     "cell_type": "code",
     "collapsed": false,
     "input": [],
     "language": "python",
     "metadata": {},
     "outputs": []
    }
   ],
   "metadata": {}
  }
 ]
}